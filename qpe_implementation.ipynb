{
 "cells": [
  {
   "cell_type": "markdown",
   "metadata": {
    "cellId": "f166ed79-5181-45da-9305-e8eba6dc40c6"
   },
   "source": [
    "# Quantum Phase Estimation Implementation\n",
    "\n",
    "Rory Schadler, Phyo Pyi Kyaw\n",
    "Physics 75  \n",
    "\n",
    "Lab 3 "
   ]
  },
  {
   "cell_type": "code",
   "execution_count": 1,
   "metadata": {
    "cellId": "c4c0898a-9946-4d32-b684-18562e366ab3"
   },
   "outputs": [],
   "source": [
    "from qiskit.visualization import plot_histogram\n",
    "from qiskit import *\n",
    "import numpy as np"
   ]
  },
  {
   "cell_type": "code",
   "execution_count": 2,
   "metadata": {
    "cellId": "757ac850-84b0-4b4f-ad95-d3c3ee29d11d"
   },
   "outputs": [],
   "source": [
    "def prepare_register(n, angle):\n",
    "    qc = QuantumCircuit(n+1,n)\n",
    "    # |1> is the eigenstate of the controlled unitary I've implemented, I think this might change for a general unitary transformation\n",
    "    qc.x(n)\n",
    "    for i in range(n):\n",
    "        # prepare ancilla qubits\n",
    "        qc.h(i)\n",
    "        # apply the controlled unitary 2^i times \n",
    "        apply_unitary(qc, angle, i, n, 2**i)\n",
    "    qc.barrier()\n",
    "    return qc"
   ]
  },
  {
   "cell_type": "code",
   "execution_count": 3,
   "metadata": {
    "cellId": "0373cbfe-0a60-4c68-a73b-6aeb752e5429"
   },
   "outputs": [],
   "source": [
    "def apply_unitary(qc, angle, ctrl, psi, reps):\n",
    "    for i in range(reps):\n",
    "        qc.cu1(2*angle, ctrl, psi)"
   ]
  },
  {
   "cell_type": "code",
   "execution_count": 4,
   "metadata": {
    "cellId": "02955577-db05-433a-b533-7762b3d2915c"
   },
   "outputs": [],
   "source": [
    "def phase_estimation(n, qc):\n",
    "    for i in range(n-1,-1,-1): # [n-1, n-2, ..., 0]\n",
    "        qc.h(i)\n",
    "        # apply controlled rotation to other bits with correct scaling\n",
    "        for j in range(i-1,-1,-1):\n",
    "            qc.cu1(-np.pi/(2**(i - j)), i, j)"
   ]
  },
  {
   "cell_type": "code",
   "execution_count": 5,
   "metadata": {
    "cellId": "0c856238-35ba-4d44-baaa-ad6e5d7177a6"
   },
   "outputs": [],
   "source": [
    "def measure(n, qc):\n",
    "    for i in range(n):\n",
    "        qc.measure(i,n-i-1) # swap order so qiskit returns correct bitstring"
   ]
  },
  {
   "cell_type": "code",
   "execution_count": 6,
   "metadata": {
    "cellId": "3808424b-248b-4e4b-8fa2-ba76e3b89d49"
   },
   "outputs": [],
   "source": [
    "# Set number of qubits (accuracy of estimation) and desired phase angle to estimate\n",
    "n = 5\n",
    "angle = np.pi/30"
   ]
  },
  {
   "cell_type": "code",
   "execution_count": 7,
   "metadata": {
    "cellId": "e4dd74c3-65e7-4822-a5d9-25c52f2c8dab"
   },
   "outputs": [],
   "source": [
    "# Prepare circuit\n",
    "qc = prepare_register(n, angle)\n",
    "phase_estimation(n, qc)\n",
    "measure(n, qc)\n",
    "# qc.draw(output='mpl')"
   ]
  },
  {
   "cell_type": "code",
   "execution_count": 8,
   "metadata": {
    "cellId": "0b21443b-d5c4-4417-ad83-a0704d2ede84"
   },
   "outputs": [
    {
     "data": {
      "image/png": "[encoded data removed]",
      "text/plain": [
       "<Figure size 504x360 with 1 Axes>"
      ]
     },
     "execution_count": 8,
     "metadata": {},
     "output_type": "execute_result"
    }
   ],
   "source": [
    "# Run circuit\n",
    "qasm_sim = Aer.get_backend('qasm_simulator')\n",
    "qobj = assemble(qc, shots=2048)\n",
    "results = qasm_sim.run(qobj).result()\n",
    "answer = results.get_counts()\n",
    "\n",
    "plot_histogram(answer)"
   ]
  },
  {
   "cell_type": "code",
   "execution_count": 9,
   "metadata": {
    "cellId": "a4f7394d-f96d-4008-bb83-2c155d5e7e4e"
   },
   "outputs": [
    {
     "name": "stdout",
     "output_type": "stream",
     "text": [
      "The approximation of the phase is 0.03125*Pi\n"
     ]
    }
   ],
   "source": [
    "maxx = max(answer.values())\n",
    "\n",
    "keys = [k for k, v in answer.items() if v == maxx][0]\n",
    "val = int(keys, 2) / 2**n\n",
    "print(\"The approximation of the phase is {}*Pi\".format(val))"
   ]
  },
  {
   "cell_type": "markdown",
   "metadata": {
    "cellId": "88fb7e06-6293-4d09-9311-12ede3f5d287"
   },
   "source": [
    "#### The phase $\\omega$ is approximately the average of the returned bitstrings, weighted by their probability and then divided by $2^n$ for $n$ qubits"
   ]
  },
  {
   "cell_type": "code",
   "execution_count": 10,
   "metadata": {
    "cellId": "6cc13a07-0811-433e-81bc-b6c96fc44455"
   },
   "outputs": [
    {
     "data": {
      "text/html": [
       "<h3>Version Information</h3><table><tr><th>Qiskit Software</th><th>Version</th></tr><tr><td>Qiskit</td><td>0.19.6</td></tr><tr><td>Terra</td><td>0.14.2</td></tr><tr><td>Aer</td><td>0.5.2</td></tr><tr><td>Ignis</td><td>0.3.3</td></tr><tr><td>Aqua</td><td>0.7.3</td></tr><tr><td>IBM Q Provider</td><td>0.7.2</td></tr><tr><th>System information</th></tr><tr><td>Python</td><td>3.7.6 | packaged by conda-forge | (default, Jun  1 2020, 18:57:50) \n",
       "[GCC 7.5.0]</td></tr><tr><td>OS</td><td>Linux</td></tr><tr><td>CPUs</td><td>4</td></tr><tr><td>Memory (Gb)</td><td>30.63241195678711</td></tr><tr><td colspan='2'>Fri May 21 00:51:43 2021 UTC</td></tr></table>"
      ],
      "text/plain": [
       "<IPython.core.display.HTML object>"
      ]
     },
     "metadata": {},
     "output_type": "display_data"
    }
   ],
   "source": [
    "import qiskit.tools.jupyter\n",
    "%qiskit_version_table"
   ]
  }
 ],
 "metadata": {
  "kernelspec": {
   "display_name": "Python 3",
   "language": "python",
   "name": "python3"
  },
  "language_info": {
   "codemirror_mode": {
    "name": "ipython",
    "version": 3
   },
   "file_extension": ".py",
   "mimetype": "text/x-python",
   "name": "python",
   "nbconvert_exporter": "python",
   "pygments_lexer": "ipython3",
   "version": "3.7.6"
  }
 },
 "nbformat": 4,
 "nbformat_minor": 4
}
