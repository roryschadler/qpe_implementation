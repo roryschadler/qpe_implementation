{
 "cells": [
  {
   "cell_type": "markdown",
   "metadata": {},
   "source": [
    "# Quantum Phase Estimation Implementation\n",
    "\n",
    "Rory Schadler, Phyo Kyi Pyaw\n",
    "Physics 75  \n",
    "\n",
    "Lab 3 "
   ]
  },
  {
   "cell_type": "code",
   "execution_count": 4,
   "metadata": {},
   "outputs": [
    {
     "name": "stdout",
     "output_type": "stream",
     "text": [
      "Imports Successful\n"
     ]
    }
   ],
   "source": [
    "from qiskit.visualization import plot_histogram\n",
    "from qiskit import *\n",
    "from numpy.random import randint\n",
    "import numpy as np\n",
    "print(\"Imports Successful\")"
   ]
  },
  {
   "cell_type": "markdown",
   "metadata": {},
   "source": [
    "#### Set number of qubits (accuracy of estimation)"
   ]
  },
  {
   "cell_type": "code",
   "execution_count": 23,
   "metadata": {},
   "outputs": [],
   "source": [
    "n = 3"
   ]
  },
  {
   "cell_type": "code",
   "execution_count": 25,
   "metadata": {},
   "outputs": [],
   "source": [
    "def prepare_register(n):\n",
    "    qc = QuantumCircuit(n+1,n)\n",
    "    for i in range(n):\n",
    "        qc.h(i)\n",
    "        apply_unitary(qc, i,n,2**i)\n",
    "    return qc"
   ]
  },
  {
   "cell_type": "code",
   "execution_count": 21,
   "metadata": {},
   "outputs": [],
   "source": [
    "def apply_unitary(qc, ctrl, psi, reps):\n",
    "    for i in range(reps):\n",
    "        # T-gate from Qiskit Textbook Page\n",
    "        qc.cu1(np.pi/4, ctrl, psi)"
   ]
  },
  {
   "cell_type": "code",
   "execution_count": 26,
   "metadata": {},
   "outputs": [
    {
     "data": {
      "text/html": [
       "<pre style=\"word-wrap: normal;white-space: pre;background: #fff0;line-height: 1.1;font-family: &quot;Courier New&quot;,Courier,monospace\">     ┌───┐                                                 \n",
       "q_0: ┤ H ├─■───────────────────────────────────────────────\n",
       "     ├───┤ │                                               \n",
       "q_1: ┤ H ├─┼──────■──────■─────────────────────────────────\n",
       "     ├───┤ │      │      │                                 \n",
       "q_2: ┤ H ├─┼──────┼──────┼──────■──────■──────■──────■─────\n",
       "     └───┘ │pi/4  │pi/4  │pi/4  │pi/4  │pi/4  │pi/4  │pi/4 \n",
       "q_3: ──────■──────■──────■──────■──────■──────■──────■─────\n",
       "                                                           \n",
       "c_0: ══════════════════════════════════════════════════════\n",
       "                                                           \n",
       "c_1: ══════════════════════════════════════════════════════\n",
       "                                                           \n",
       "c_2: ══════════════════════════════════════════════════════\n",
       "                                                           </pre>"
      ],
      "text/plain": [
       "     ┌───┐                                                 \n",
       "q_0: ┤ H ├─■───────────────────────────────────────────────\n",
       "     ├───┤ │                                               \n",
       "q_1: ┤ H ├─┼──────■──────■─────────────────────────────────\n",
       "     ├───┤ │      │      │                                 \n",
       "q_2: ┤ H ├─┼──────┼──────┼──────■──────■──────■──────■─────\n",
       "     └───┘ │pi/4  │pi/4  │pi/4  │pi/4  │pi/4  │pi/4  │pi/4 \n",
       "q_3: ──────■──────■──────■──────■──────■──────■──────■─────\n",
       "                                                           \n",
       "c_0: ══════════════════════════════════════════════════════\n",
       "                                                           \n",
       "c_1: ══════════════════════════════════════════════════════\n",
       "                                                           \n",
       "c_2: ══════════════════════════════════════════════════════\n",
       "                                                           "
      ]
     },
     "execution_count": 26,
     "metadata": {},
     "output_type": "execute_result"
    }
   ],
   "source": [
    "prepare_register(n).draw()"
   ]
  },
  {
   "cell_type": "code",
   "execution_count": null,
   "metadata": {},
   "outputs": [],
   "source": []
  }
 ],
 "metadata": {
  "kernelspec": {
   "display_name": "Python 3",
   "language": "python",
   "name": "python3"
  },
  "language_info": {
   "codemirror_mode": {
    "name": "ipython",
    "version": 3
   },
   "file_extension": ".py",
   "mimetype": "text/x-python",
   "name": "python",
   "nbconvert_exporter": "python",
   "pygments_lexer": "ipython3",
   "version": "3.7.6"
  }
 },
 "nbformat": 4,
 "nbformat_minor": 4
}
