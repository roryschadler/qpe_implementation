{
 "cells": [
  {
   "cell_type": "markdown",
   "metadata": {},
   "source": [
    "# Quantum Phase Estimation Implementation\n",
    "\n",
    "Rory Schadler, Phyo Kyi Pyaw\n",
    "Physics 75  \n",
    "\n",
    "Lab 3 "
   ]
  },
  {
   "cell_type": "code",
   "execution_count": 1,
   "metadata": {},
   "outputs": [],
   "source": [
    "from qiskit.visualization import plot_histogram\n",
    "from qiskit import *\n",
    "import numpy as np"
   ]
  },
  {
   "cell_type": "code",
   "execution_count": 2,
   "metadata": {},
   "outputs": [],
   "source": [
    "def prepare_register(n, angle):\n",
    "    qc = QuantumCircuit(n+1,n)\n",
    "    # |1> is the eigenstate of the controlled unitary I've implemented, I think this might change for a general unitary transformation\n",
    "    qc.x(n)\n",
    "    for i in range(n):\n",
    "        # prepare ancilla qubits\n",
    "        qc.h(i)\n",
    "        # apply the controlled unitary 2^i times \n",
    "        apply_unitary(qc, angle, i, n, 2**i)\n",
    "    qc.barrier()\n",
    "    return qc"
   ]
  },
  {
   "cell_type": "code",
   "execution_count": 3,
   "metadata": {},
   "outputs": [],
   "source": [
    "def apply_unitary(qc, angle, ctrl, psi, reps):\n",
    "    for i in range(reps):\n",
    "        qc.cu1(2*angle, ctrl, psi)"
   ]
  },
  {
   "cell_type": "code",
   "execution_count": 4,
   "metadata": {},
   "outputs": [],
   "source": [
    "def phase_estimation(n, qc):\n",
    "    for i in range(n-1,-1,-1): # [n-1, n-2, ..., 0]\n",
    "        qc.h(i)\n",
    "        # apply controlled rotation to other bits with correct scaling\n",
    "        for j in range(i-1,-1,-1):\n",
    "            qc.cu1(-np.pi/(2**(i - j)), i, j)"
   ]
  },
  {
   "cell_type": "code",
   "execution_count": 5,
   "metadata": {},
   "outputs": [],
   "source": [
    "def measure(n, qc):\n",
    "    for i in range(n):\n",
    "        qc.measure(i,n-i-1) # swap order so qiskit returns correct bitstring"
   ]
  },
  {
   "cell_type": "code",
   "execution_count": 10,
   "metadata": {},
   "outputs": [],
   "source": [
    "# Set number of qubits (accuracy of estimation) and desired phase angle to estimate\n",
    "n = 5\n",
    "angle = np.pi/10"
   ]
  },
  {
   "cell_type": "code",
   "execution_count": 11,
   "metadata": {},
   "outputs": [],
   "source": [
    "# Prepare circuit\n",
    "qc = prepare_register(n, angle)\n",
    "phase_estimation(n, qc)\n",
    "measure(n, qc)\n",
    "# qc.draw(output='mpl')"
   ]
  },
  {
   "cell_type": "code",
   "execution_count": 12,
   "metadata": {},
   "outputs": [
    {
     "data": {
      "image/png": "[encoded data removed]",
      "text/plain": [
       "<Figure size 504x360 with 1 Axes>"
      ]
     },
     "execution_count": 12,
     "metadata": {},
     "output_type": "execute_result"
    }
   ],
   "source": [
    "# Run circuit\n",
    "qasm_sim = Aer.get_backend('qasm_simulator')\n",
    "qobj = assemble(qc, shots=2048)\n",
    "results = qasm_sim.run(qobj).result()\n",
    "answer = results.get_counts()\n",
    "\n",
    "plot_histogram(answer)"
   ]
  },
  {
   "cell_type": "markdown",
   "metadata": {},
   "source": [
    "#### The phase $\\omega$ is approximately the average of the returned bitstrings, weighted by their probability and then divided by $2^n$ for $n$ qubits"
   ]
  },
  {
   "cell_type": "code",
   "execution_count": 9,
   "metadata": {},
   "outputs": [
    {
     "data": {
      "text/html": [
       "<h3>Version Information</h3><table><tr><th>Qiskit Software</th><th>Version</th></tr><tr><td>Qiskit</td><td>0.19.6</td></tr><tr><td>Terra</td><td>0.14.2</td></tr><tr><td>Aer</td><td>0.5.2</td></tr><tr><td>Ignis</td><td>0.3.3</td></tr><tr><td>Aqua</td><td>0.7.3</td></tr><tr><td>IBM Q Provider</td><td>0.7.2</td></tr><tr><th>System information</th></tr><tr><td>Python</td><td>3.7.6 | packaged by conda-forge | (default, Jun  1 2020, 18:57:50) \n",
       "[GCC 7.5.0]</td></tr><tr><td>OS</td><td>Linux</td></tr><tr><td>CPUs</td><td>4</td></tr><tr><td>Memory (Gb)</td><td>30.63241195678711</td></tr><tr><td colspan='2'>Mon May 17 23:14:12 2021 UTC</td></tr></table>"
      ],
      "text/plain": [
       "<IPython.core.display.HTML object>"
      ]
     },
     "metadata": {},
     "output_type": "display_data"
    }
   ],
   "source": [
    "import qiskit.tools.jupyter\n",
    "%qiskit_version_table"
   ]
  }
 ],
 "metadata": {
  "kernelspec": {
   "display_name": "Python 3",
   "language": "python",
   "name": "python3"
  },
  "language_info": {
   "codemirror_mode": {
    "name": "ipython",
    "version": 3
   },
   "file_extension": ".py",
   "mimetype": "text/x-python",
   "name": "python",
   "nbconvert_exporter": "python",
   "pygments_lexer": "ipython3",
   "version": "3.7.6"
  }
 },
 "nbformat": 4,
 "nbformat_minor": 4
}
